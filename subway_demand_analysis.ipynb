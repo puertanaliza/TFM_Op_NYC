{
 "cells": [
  {
   "cell_type": "code",
   "execution_count": 0,
   "metadata": {
    "application/vnd.databricks.v1+cell": {
     "cellMetadata": {
      "byteLimit": 2048000,
      "rowLimit": 10000
     },
     "inputWidgets": {},
     "nuid": "5d773025-a3ff-40c0-9bca-5b9abff8de72",
     "showTitle": false,
     "tableResultSettingsMap": {},
     "title": ""
    }
   },
   "outputs": [],
   "source": [
    "!pip install meteostat\n",
    "!pip install aiohttp\n",
    "!pip install asyncio\n",
    "!pip install nest_asyncio"
   ]
  },
  {
   "cell_type": "code",
   "execution_count": null,
   "metadata": {},
   "outputs": [],
   "source": [
    "from pyspark.sql.types import StructType, StructField, StringType, IntegerType, FloatType, MapType, TimestampType, ArrayType\n",
    "from pyspark.sql import SparkSession\n",
    "import requests\n",
    "import pandas as pd\n",
    "from pyspark.sql.functions import col, to_timestamp, month, to_date, min, max, hour, coalesce, explode, sequence, expr, date_format, when, lit, sum, udf, avg, corr\n",
    "from meteostat import Point, Hourly\n",
    "from datetime import datetime\n",
    "from functools import reduce\n",
    "from pyspark.sql.types import IntegerType\n",
    "import seaborn as sns\n",
    "import matplotlib.pyplot as plt\n",
    "\n"
   ]
  },
  {
   "cell_type": "code",
   "execution_count": 0,
   "metadata": {
    "application/vnd.databricks.v1+cell": {
     "cellMetadata": {
      "byteLimit": 2048000,
      "rowLimit": 10000
     },
     "inputWidgets": {},
     "nuid": "8058bc26-cc81-41e8-93dc-38f960741609",
     "showTitle": false,
     "tableResultSettingsMap": {},
     "title": ""
    }
   },
   "outputs": [],
   "source": [
    "\n",
    "# Creo una sesión de Spark\n",
    "spark = SparkSession.builder.appName(\"SubwayDemand\").getOrCreate()\n"
   ]
  },
  {
   "cell_type": "code",
   "execution_count": 0,
   "metadata": {
    "application/vnd.databricks.v1+cell": {
     "cellMetadata": {
      "byteLimit": 2048000,
      "rowLimit": 10000
     },
     "inputWidgets": {},
     "nuid": "34db583f-3516-451b-bc10-6a3a7f0c0f16",
     "showTitle": false,
     "tableResultSettingsMap": {},
     "title": ""
    }
   },
   "outputs": [],
   "source": [
    "\n",
    "schema = StructType([\n",
    "    StructField(\"day_of_week\", StringType(), True),  # Ej.: \"Monday\"\n",
    "    StructField(\"destination_latitude\", FloatType(), True),  # Coordenada geográfica\n",
    "    StructField(\"destination_longitude\", FloatType(), True),  # Coordenada geográfica\n",
    "    StructField(\"destination_station_complex_id\", StringType(), True),  # Identificador\n",
    "    StructField(\"destination_station_complex_name\", StringType(), True),  # Nombre\n",
    "    StructField(\"estimated_average_ridership\", FloatType(), True),  # Número estimado\n",
    "    StructField(\"hour_of_day\", IntegerType(), True),  # Hora del día (0-23)\n",
    "    StructField(\"month\", IntegerType(), True),  # Mes del año (1-12)\n",
    "    StructField(\"origin_latitude\", FloatType(), True),  # Coordenada geográfica\n",
    "    StructField(\"origin_longitude\", FloatType(), True),  # Coordenada geográfica\n",
    "    StructField(\"origin_point\", MapType(StringType(), FloatType()), True),  # Map de coordenadas\n",
    "    StructField(\"origin_station_complex_id\", StringType(), True),  # Identificador\n",
    "    StructField(\"origin_station_complex_name\", StringType(), True),  # Nombre\n",
    "    StructField(\"timestamp\", TimestampType(), True),  # Fecha y hora\n",
    "    StructField(\"year\", IntegerType(), True)  # Año\n",
    "])\n"
   ]
  },
  {
   "cell_type": "code",
   "execution_count": 0,
   "metadata": {
    "application/vnd.databricks.v1+cell": {
     "cellMetadata": {
      "byteLimit": 2048000,
      "rowLimit": 10000
     },
     "inputWidgets": {},
     "nuid": "afb5afc2-0441-4541-be2d-079ab46bece7",
     "showTitle": false,
     "tableResultSettingsMap": {},
     "title": ""
    }
   },
   "outputs": [],
   "source": [
    "\n",
    "\n",
    "#introduzco la url con los datos ya filtrados (dentro de manhattan y rango de fechas objeto de estudio)\n",
    "\n",
    "# URL base (sin limitar la consulta a 1000 registros)\n",
    "base_url = \"https://data.ny.gov/resource/jsu2-fbtj.json?$query=SELECT%0A%20%20%60year%60%2C%0A%20%20%60month%60%2C%0A%20%20%60day_of_week%60%2C%0A%20%20%60hour_of_day%60%2C%0A%20%20%60timestamp%60%2C%0A%20%20%60origin_station_complex_id%60%2C%0A%20%20%60origin_station_complex_name%60%2C%0A%20%20%60origin_latitude%60%2C%0A%20%20%60origin_longitude%60%2C%0A%20%20%60destination_station_complex_id%60%2C%0A%20%20%60destination_station_complex_name%60%2C%0A%20%20%60destination_latitude%60%2C%0A%20%20%60destination_longitude%60%2C%0A%20%20%60estimated_average_ridership%60%2C%0A%20%20%60origin_point%60%2C%0A%20%20%60destination_point%60%0AWHERE%0A%20%20((%60origin_station_complex_id%60%20IN%20(%0A%20%20%20%20%20%20%208%2C%0A%20%20%20%20%20%20%209%2C%0A%20%20%20%20%20%20%2010%2C%0A%20%20%20%20%20%20%2013%2C%0A%20%20%20%20%20%20%2014%2C%0A%20%20%20%20%20%20%2016%2C%0A%20%20%20%20%20%20%2017%2C%0A%20%20%20%20%20%20%2020%2C%0A%20%20%20%20%20%20%2022%2C%0A%20%20%20%20%20%20%20103%2C%0A%20%20%20%20%20%20%20107%2C%0A%20%20%20%20%20%20%20118%2C%0A%20%20%20%20%20%20%20119%2C%0A%20%20%20%20%20%20%20143%2C%0A%20%20%20%20%20%20%20144%2C%0A%20%20%20%20%20%20%20145%2C%0A%20%20%20%20%20%20%20146%2C%0A%20%20%20%20%20%20%20147%2C%0A%20%20%20%20%20%20%20149%2C%0A%20%20%20%20%20%20%20150%2C%0A%20%20%20%20%20%20%20151%2C%0A%20%20%20%20%20%20%20152%2C%0A%20%20%20%20%20%20%20153%2C%0A%20%20%20%20%20%20%20154%2C%0A%20%20%20%20%20%20%20155%2C%0A%20%20%20%20%20%20%20156%2C%0A%20%20%20%20%20%20%20157%2C%0A%20%20%20%20%20%20%20158%2C%0A%20%20%20%20%20%20%20159%2C%0A%20%20%20%20%20%20%20160%2C%0A%20%20%20%20%20%20%20162%2C%0A%20%20%20%20%20%20%20164%2C%0A%20%20%20%20%20%20%20165%2C%0A%20%20%20%20%20%20%20167%2C%0A%20%20%20%20%20%20%20168%2C%0A%20%20%20%20%20%20%20169%2C%0A%20%20%20%20%20%20%20220%2C%0A%20%20%20%20%20%20%20222%2C%0A%20%20%20%20%20%20%20223%2C%0A%20%20%20%20%20%20%20224%2C%0A%20%20%20%20%20%20%20225%2C%0A%20%20%20%20%20%20%20228%2C%0A%20%20%20%20%20%20%20231%2C%0A%20%20%20%20%20%20%20232%2C%0A%20%20%20%20%20%20%20234%2C%0A%20%20%20%20%20%20%20276%2C%0A%20%20%20%20%20%20%20277%2C%0A%20%20%20%20%20%20%20296%2C%0A%20%20%20%20%20%20%20297%2C%0A%20%20%20%20%20%20%20298%2C%0A%20%20%20%20%20%20%20299%2C%0A%20%20%20%20%20%20%20300%2C%0A%20%20%20%20%20%20%20301%2C%0A%20%20%20%20%20%20%20303%2C%0A%20%20%20%20%20%20%20304%2C%0A%20%20%20%20%20%20%20305%2C%0A%20%20%20%20%20%20%20306%2C%0A%20%20%20%20%20%20%20307%2C%0A%20%20%20%20%20%20%20308%2C%0A%20%20%20%20%20%20%20309%2C%0A%20%20%20%20%20%20%20310%2C%0A%20%20%20%20%20%20%20311%2C%0A%20%20%20%20%20%20%20312%2C%0A%20%20%20%20%20%20%20313%2C%0A%20%20%20%20%20%20%20314%2C%0A%20%20%20%20%20%20%20316%2C%0A%20%20%20%20%20%20%20318%2C%0A%20%20%20%20%20%20%20319%2C%0A%20%20%20%20%20%20%20320%2C%0A%20%20%20%20%20%20%20321%2C%0A%20%20%20%20%20%20%20323%2C%0A%20%20%20%20%20%20%20324%2C%0A%20%20%20%20%20%20%20325%2C%0A%20%20%20%20%20%20%20326%2C%0A%20%20%20%20%20%20%20327%2C%0A%20%20%20%20%20%20%20328%2C%0A%20%20%20%20%20%20%20329%2C%0A%20%20%20%20%20%20%20333%2C%0A%20%20%20%20%20%20%20392%2C%0A%20%20%20%20%20%20%20393%2C%0A%20%20%20%20%20%20%20394%2C%0A%20%20%20%20%20%20%20395%2C%0A%20%20%20%20%20%20%20396%2C%0A%20%20%20%20%20%20%20397%2C%0A%20%20%20%20%20%20%20398%2C%0A%20%20%20%20%20%20%20399%2C%0A%20%20%20%20%20%20%20403%2C%0A%20%20%20%20%20%20%20404%2C%0A%20%20%20%20%20%20%20405%2C%0A%20%20%20%20%20%20%20407%2C%0A%20%20%20%20%20%20%20409%2C%0A%20%20%20%20%20%20%20413%2C%0A%20%20%20%20%20%20%20414%2C%0A%20%20%20%20%20%20%20436%2C%0A%20%20%20%20%20%20%20437%2C%0A%20%20%20%20%20%20%20438%2C%0A%20%20%20%20%20%20%20439%2C%0A%20%20%20%20%20%20%20440%2C%0A%20%20%20%20%20%20%20441%2C%0A%20%20%20%20%20%20%20471%2C%0A%20%20%20%20%20%20%20475%2C%0A%20%20%20%20%20%20%20476%2C%0A%20%20%20%20%20%20%20477%2C%0A%20%20%20%20%20%20%20601%2C%0A%20%20%20%20%20%20%20602%2C%0A%20%20%20%20%20%20%20605%2C%0A%20%20%20%20%20%20%20607%2C%0A%20%20%20%20%20%20%20609%2C%0A%20%20%20%20%20%20%20610%2C%0A%20%20%20%20%20%20%20611%2C%0A%20%20%20%20%20%20%20612%2C%0A%20%20%20%20%20%20%20613%2C%0A%20%20%20%20%20%20%20614%2C%0A%20%20%20%20%20%20%20618%2C%0A%20%20%20%20%20%20%20619%2C%0A%20%20%20%20%20%20%20622%2C%0A%20%20%20%20%20%20%20623%2C%0A%20%20%20%20%20%20%20624%2C%0A%20%20%20%20%20%20%20625%2C%0A%20%20%20%20%20%20%20628%2C%0A%20%20%20%20%20%20%20635%0A%20%20%20%20%20))%0A%20%20%20%20%20AND%20((%60destination_station_complex_id%60%20IN%20(%0A%20%20%20%20%20%20%20%20%20%20%20%20%20%208%2C%0A%20%20%20%20%20%20%20%20%20%20%20%20%20%209%2C%0A%20%20%20%20%20%20%20%20%20%20%20%20%20%2010%2C%0A%20%20%20%20%20%20%20%20%20%20%20%20%20%2013%2C%0A%20%20%20%20%20%20%20%20%20%20%20%20%20%2014%2C%0A%20%20%20%20%20%20%20%20%20%20%20%20%20%2016%2C%0A%20%20%20%20%20%20%20%20%20%20%20%20%20%2017%2C%0A%20%20%20%20%20%20%20%20%20%20%20%20%20%2020%2C%0A%20%20%20%20%20%20%20%20%20%20%20%20%20%2022%2C%0A%20%20%20%20%20%20%20%20%20%20%20%20%20%20103%2C%0A%20%20%20%20%20%20%20%20%20%20%20%20%20%20107%2C%0A%20%20%20%20%20%20%20%20%20%20%20%20%20%20118%2C%0A%20%20%20%20%20%20%20%20%20%20%20%20%20%20119%2C%0A%20%20%20%20%20%20%20%20%20%20%20%20%20%20143%2C%0A%20%20%20%20%20%20%20%20%20%20%20%20%20%20144%2C%0A%20%20%20%20%20%20%20%20%20%20%20%20%20%20145%2C%0A%20%20%20%20%20%20%20%20%20%20%20%20%20%20146%2C%0A%20%20%20%20%20%20%20%20%20%20%20%20%20%20147%2C%0A%20%20%20%20%20%20%20%20%20%20%20%20%20%20149%2C%0A%20%20%20%20%20%20%20%20%20%20%20%20%20%20150%2C%0A%20%20%20%20%20%20%20%20%20%20%20%20%20%20151%2C%0A%20%20%20%20%20%20%20%20%20%20%20%20%20%20152%2C%0A%20%20%20%20%20%20%20%20%20%20%20%20%20%20153%2C%0A%20%20%20%20%20%20%20%20%20%20%20%20%20%20154%2C%0A%20%20%20%20%20%20%20%20%20%20%20%20%20%20155%2C%0A%20%20%20%20%20%20%20%20%20%20%20%20%20%20156%2C%0A%20%20%20%20%20%20%20%20%20%20%20%20%20%20157%2C%0A%20%20%20%20%20%20%20%20%20%20%20%20%20%20158%2C%0A%20%20%20%20%20%20%20%20%20%20%20%20%20%20159%2C%0A%20%20%20%20%20%20%20%20%20%20%20%20%20%20160%2C%0A%20%20%20%20%20%20%20%20%20%20%20%20%20%20162%2C%0A%20%20%20%20%20%20%20%20%20%20%20%20%20%20164%2C%0A%20%20%20%20%20%20%20%20%20%20%20%20%20%20165%2C%0A%20%20%20%20%20%20%20%20%20%20%20%20%20%20167%2C%0A%20%20%20%20%20%20%20%20%20%20%20%20%20%20168%2C%0A%20%20%20%20%20%20%20%20%20%20%20%20%20%20169%2C%0A%20%20%20%20%20%20%20%20%20%20%20%20%20%20220%2C%0A%20%20%20%20%20%20%20%20%20%20%20%20%20%20222%2C%0A%20%20%20%20%20%20%20%20%20%20%20%20%20%20223%2C%0A%20%20%20%20%20%20%20%20%20%20%20%20%20%20224%2C%0A%20%20%20%20%20%20%20%20%20%20%20%20%20%20225%2C%0A%20%20%20%20%20%20%20%20%20%20%20%20%20%20228%2C%0A%20%20%20%20%20%20%20%20%20%20%20%20%20%20231%2C%0A%20%20%20%20%20%20%20%20%20%20%20%20%20%20232%2C%0A%20%20%20%20%20%20%20%20%20%20%20%20%20%20234%2C%0A%20%20%20%20%20%20%20%20%20%20%20%20%20%20276%2C%0A%20%20%20%20%20%20%20%20%20%20%20%20%20%20277%2C%0A%20%20%20%20%20%20%20%20%20%20%20%20%20%20296%2C%0A%20%20%20%20%20%20%20%20%20%20%20%20%20%20297%2C%0A%20%20%20%20%20%20%20%20%20%20%20%20%20%20298%2C%0A%20%20%20%20%20%20%20%20%20%20%20%20%20%20299%2C%0A%20%20%20%20%20%20%20%20%20%20%20%20%20%20300%2C%0A%20%20%20%20%20%20%20%20%20%20%20%20%20%20301%2C%0A%20%20%20%20%20%20%20%20%20%20%20%20%20%20303%2C%0A%20%20%20%20%20%20%20%20%20%20%20%20%20%20304%2C%0A%20%20%20%20%20%20%20%20%20%20%20%20%20%20305%2C%0A%20%20%20%20%20%20%20%20%20%20%20%20%20%20306%2C%0A%20%20%20%20%20%20%20%20%20%20%20%20%20%20307%2C%0A%20%20%20%20%20%20%20%20%20%20%20%20%20%20308%2C%0A%20%20%20%20%20%20%20%20%20%20%20%20%20%20309%2C%0A%20%20%20%20%20%20%20%20%20%20%20%20%20%20310%2C%0A%20%20%20%20%20%20%20%20%20%20%20%20%20%20311%2C%0A%20%20%20%20%20%20%20%20%20%20%20%20%20%20312%2C%0A%20%20%20%20%20%20%20%20%20%20%20%20%20%20313%2C%0A%20%20%20%20%20%20%20%20%20%20%20%20%20%20314%2C%0A%20%20%20%20%20%20%20%20%20%20%20%20%20%20316%2C%0A%20%20%20%20%20%20%20%20%20%20%20%20%20%20318%2C%0A%20%20%20%20%20%20%20%20%20%20%20%20%20%20319%2C%0A%20%20%20%20%20%20%20%20%20%20%20%20%20%20320%2C%0A%20%20%20%20%20%20%20%20%20%20%20%20%20%20321%2C%0A%20%20%20%20%20%20%20%20%20%20%20%20%20%20323%2C%0A%20%20%20%20%20%20%20%20%20%20%20%20%20%20324%2C%0A%20%20%20%20%20%20%20%20%20%20%20%20%20%20325%2C%0A%20%20%20%20%20%20%20%20%20%20%20%20%20%20326%2C%0A%20%20%20%20%20%20%20%20%20%20%20%20%20%20327%2C%0A%20%20%20%20%20%20%20%20%20%20%20%20%20%20328%2C%0A%20%20%20%20%20%20%20%20%20%20%20%20%20%20329%2C%0A%20%20%20%20%20%20%20%20%20%20%20%20%20%20333%2C%0A%20%20%20%20%20%20%20%20%20%20%20%20%20%20392%2C%0A%20%20%20%20%20%20%20%20%20%20%20%20%20%20393%2C%0A%20%20%20%20%20%20%20%20%20%20%20%20%20%20394%2C%0A%20%20%20%20%20%20%20%20%20%20%20%20%20%20395%2C%0A%20%20%20%20%20%20%20%20%20%20%20%20%20%20396%2C%0A%20%20%20%20%20%20%20%20%20%20%20%20%20%20397%2C%0A%20%20%20%20%20%20%20%20%20%20%20%20%20%20398%2C%0A%20%20%20%20%20%20%20%20%20%20%20%20%20%20399%2C%0A%20%20%20%20%20%20%20%20%20%20%20%20%20%20403%2C%0A%20%20%20%20%20%20%20%20%20%20%20%20%20%20404%2C%0A%20%20%20%20%20%20%20%20%20%20%20%20%20%20405%2C%0A%20%20%20%20%20%20%20%20%20%20%20%20%20%20407%2C%0A%20%20%20%20%20%20%20%20%20%20%20%20%20%20409%2C%0A%20%20%20%20%20%20%20%20%20%20%20%20%20%20413%2C%0A%20%20%20%20%20%20%20%20%20%20%20%20%20%20414%2C%0A%20%20%20%20%20%20%20%20%20%20%20%20%20%20436%2C%0A%20%20%20%20%20%20%20%20%20%20%20%20%20%20437%2C%0A%20%20%20%20%20%20%20%20%20%20%20%20%20%20438%2C%0A%20%20%20%20%20%20%20%20%20%20%20%20%20%20439%2C%0A%20%20%20%20%20%20%20%20%20%20%20%20%20%20440%2C%0A%20%20%20%20%20%20%20%20%20%20%20%20%20%20441%2C%0A%20%20%20%20%20%20%20%20%20%20%20%20%20%20471%2C%0A%20%20%20%20%20%20%20%20%20%20%20%20%20%20475%2C%0A%20%20%20%20%20%20%20%20%20%20%20%20%20%20476%2C%0A%20%20%20%20%20%20%20%20%20%20%20%20%20%20477%2C%0A%20%20%20%20%20%20%20%20%20%20%20%20%20%20601%2C%0A%20%20%20%20%20%20%20%20%20%20%20%20%20%20602%2C%0A%20%20%20%20%20%20%20%20%20%20%20%20%20%20605%2C%0A%20%20%20%20%20%20%20%20%20%20%20%20%20%20607%2C%0A%20%20%20%20%20%20%20%20%20%20%20%20%20%20609%2C%0A%20%20%20%20%20%20%20%20%20%20%20%20%20%20610%2C%0A%20%20%20%20%20%20%20%20%20%20%20%20%20%20611%2C%0A%20%20%20%20%20%20%20%20%20%20%20%20%20%20612%2C%0A%20%20%20%20%20%20%20%20%20%20%20%20%20%20613%2C%0A%20%20%20%20%20%20%20%20%20%20%20%20%20%20614%2C%0A%20%20%20%20%20%20%20%20%20%20%20%20%20%20618%2C%0A%20%20%20%20%20%20%20%20%20%20%20%20%20%20619%2C%0A%20%20%20%20%20%20%20%20%20%20%20%20%20%20622%2C%0A%20%20%20%20%20%20%20%20%20%20%20%20%20%20623%2C%0A%20%20%20%20%20%20%20%20%20%20%20%20%20%20624%2C%0A%20%20%20%20%20%20%20%20%20%20%20%20%20%20625%2C%0A%20%20%20%20%20%20%20%20%20%20%20%20%20%20628%2C%0A%20%20%20%20%20%20%20%20%20%20%20%20%20%20635%0A%20%20%20%20%20%20%20%20%20%20%20%20))%0A%20%20%20%20%20%20%20%20%20%20%20%20AND%20(%60timestamp%60%0A%20%20%20%20%20%20%20%20%20%20%20%20%20%20%20%20%20%20%20BETWEEN%20%222024-03-01T00%3A00%3A00%22%20%3A%3A%20floating_timestamp%0A%20%20%20%20%20%20%20%20%20%20%20%20%20%20%20%20%20%20%20AND%20%222024-03-07T23%3A59%3A59%22%20%3A%3A%20floating_timestamp)))%0A%20%20%20%20OR%20(%60timestamp%60%0A%20%20%20%20%20%20%20%20%20%20BETWEEN%20%222024-06-01T00%3A00%3A00%22%0A%20%20%20%20%20%20%20%20%20%20AND%20%222024-06-08T23%3A59%3A59%22%20%3A%3A%20floating_timestamp)\"\n",
    "\n",
    "# Tamaño del lote (3 millones de registros)\n",
    "limit = 3000000\n",
    "\n",
    "# Se crea el df\n",
    "all_data = pd.DataFrame()\n",
    "\n",
    "paginated_url = f\"{base_url} LIMIT {limit}\"\n",
    "print(f\"Consultando: {paginated_url}\")\n",
    "\n",
    "# Se realiza la solicitud a la página\n",
    "response = requests.get(paginated_url)\n",
    "\n",
    "# Compruebo que la solicitud ha sido exitosa\n",
    "if response.status_code == 200:\n",
    "    # Carga los datos en un DataFrame\n",
    "    data = response.json()\n",
    "    temp_df = pd.DataFrame(data)\n",
    "    \n",
    "    # Si hay datos, se añade al df creado\n",
    "    if not temp_df.empty:\n",
    "        all_data = temp_df\n",
    "        print(f\"Se obtuvieron {len(all_data)} registros.\")\n",
    "    else:\n",
    "        print(\"No se encontraron datos.\")\n",
    "else:\n",
    "    print(f\"Error al consultar la API. Código de estado: {response.status_code}\")\n",
    "\n",
    "# Imprimo en pantalla cuántos registros se han descargado\n",
    "print(f\"Total de registros descargados: {len(all_data)}\")\n",
    "\n",
    "# Convierto el DataFrame de Pandas a un DataFrame de Spark\n",
    "subway_demand = spark.createDataFrame(all_data)\n",
    "\n",
    "# Muestro en pantalla el esquema y las primeras filas del DataFrame en Spark\n",
    "subway_demand.printSchema()\n",
    "subway_demand.show()\n",
    " "
   ]
  },
  {
   "cell_type": "code",
   "execution_count": 0,
   "metadata": {
    "application/vnd.databricks.v1+cell": {
     "cellMetadata": {
      "byteLimit": 2048000,
      "rowLimit": 10000
     },
     "inputWidgets": {},
     "nuid": "ad1a16c8-cb75-43de-a21e-0ef92b30e8d8",
     "showTitle": false,
     "tableResultSettingsMap": {},
     "title": ""
    }
   },
   "outputs": [],
   "source": [
    "# Calculo el número de filas en el DataFrame de Spark\n",
    "df_length = subway_demand.count()\n",
    "\n",
    "# Imprimo el número de filas\n",
    "print(f\"El número de filas en el DataFrame es: {df_length}\")"
   ]
  },
  {
   "cell_type": "code",
   "execution_count": 0,
   "metadata": {
    "application/vnd.databricks.v1+cell": {
     "cellMetadata": {
      "byteLimit": 2048000,
      "rowLimit": 10000
     },
     "inputWidgets": {},
     "nuid": "32a633df-61bb-49db-8bb0-fa65b95d33f3",
     "showTitle": false,
     "tableResultSettingsMap": {},
     "title": ""
    }
   },
   "outputs": [],
   "source": [
    "subway_demand.columns"
   ]
  },
  {
   "cell_type": "code",
   "execution_count": 0,
   "metadata": {
    "application/vnd.databricks.v1+cell": {
     "cellMetadata": {
      "byteLimit": 2048000,
      "rowLimit": 10000
     },
     "inputWidgets": {},
     "nuid": "357d0b86-09aa-40b1-afc3-9e1da17f19c5",
     "showTitle": false,
     "tableResultSettingsMap": {},
     "title": ""
    }
   },
   "outputs": [],
   "source": [
    "\n",
    "# Convierto `timestamp` a formato de fecha y hora\n",
    "subway_demand = subway_demand.withColumn(\n",
    "    \"timestamp\", \n",
    "    to_timestamp(col(\"timestamp\"))  # PySpark reconoce ISO 8601 automáticamente\n",
    ")\n",
    "\n",
    "# Filtro los datos de los primeros 6 meses del año\n",
    "subway_demand = subway_demand.filter(month(col(\"timestamp\")).between(1, 6))\n",
    "\n",
    "# Convierto latitudes y longitudes a formato numérico\n",
    "subway_demand = subway_demand.withColumn(\"origin_latitude\", col(\"origin_latitude\").cast(\"double\")) \\\n",
    "    .withColumn(\"origin_longitude\", col(\"origin_longitude\").cast(\"double\")) \\\n",
    "    .withColumn(\"destination_latitude\", col(\"destination_latitude\").cast(\"double\")) \\\n",
    "    .withColumn(\"destination_longitude\", col(\"destination_longitude\").cast(\"double\"))\n",
    "\n",
    "# Selecciono únicamente las columnas necesarias\n",
    "subway_demand = subway_demand.select(\n",
    "    \"timestamp\",\n",
    "    col(\"estimated_average_ridership\").alias(\"ridership\"),\n",
    "    'origin_station_complex_id',\n",
    "    'destination_station_complex_id',\n",
    "    \"origin_latitude\",\n",
    "    \"origin_longitude\",\n",
    "    \"day_of_week\",\n",
    "    \"hour_of_day\",\n",
    "    \"destination_longitude\",\n",
    "    \"destination_latitude\"\n",
    ")\n",
    "# Creo una columna solo con la fecha\n",
    "subway_demand = subway_demand.withColumn(\"date\", to_date(\"timestamp\"))\n",
    "\n",
    "# Imprimo los datos resultantes\n",
    "subway_demand.show()\n"
   ]
  },
  {
   "cell_type": "code",
   "execution_count": 0,
   "metadata": {
    "application/vnd.databricks.v1+cell": {
     "cellMetadata": {
      "byteLimit": 2048000,
      "rowLimit": 10000
     },
     "inputWidgets": {},
     "nuid": "28ce0976-f3e9-45c5-9654-fae2d5935a84",
     "showTitle": false,
     "tableResultSettingsMap": {},
     "title": ""
    }
   },
   "outputs": [],
   "source": [
    "subway_demand.describe()"
   ]
  },
  {
   "cell_type": "code",
   "execution_count": 0,
   "metadata": {
    "application/vnd.databricks.v1+cell": {
     "cellMetadata": {
      "byteLimit": 2048000,
      "rowLimit": 10000
     },
     "inputWidgets": {},
     "nuid": "0a4ee9d3-60d5-4545-8673-182f00f01e5a",
     "showTitle": false,
     "tableResultSettingsMap": {},
     "title": ""
    }
   },
   "outputs": [],
   "source": [
    "\n",
    "# Defino los límites de latitud y longitud para Manhattan\n",
    "lat_min = 40.4774\n",
    "lat_max = 40.8820\n",
    "lon_min = -74.0473\n",
    "lon_max = -73.9067\n",
    "\n",
    "# Filtro las filas donde las latitudes y longitudes de origen y destino estén dentro de Manhattan\n",
    "subway_demand = subway_demand.filter(\n",
    "    (col(\"origin_latitude\").between(lat_min, lat_max)) &\n",
    "    (col(\"origin_longitude\").between(lon_min, lon_max)) &\n",
    "    (col(\"destination_latitude\").between(lat_min, lat_max)) &\n",
    "    (col(\"destination_longitude\").between(lon_min, lon_max))\n",
    ")\n",
    "\n",
    "# Imprimo los datos filtrados\n",
    "subway_demand.show()\n"
   ]
  },
  {
   "cell_type": "code",
   "execution_count": 0,
   "metadata": {
    "application/vnd.databricks.v1+cell": {
     "cellMetadata": {
      "byteLimit": 2048000,
      "rowLimit": 10000
     },
     "inputWidgets": {},
     "nuid": "022d21f8-a49f-472a-994e-f0685ddc55fa",
     "showTitle": false,
     "tableResultSettingsMap": {},
     "title": ""
    }
   },
   "outputs": [],
   "source": [
    "print(f\"El número total de filas en subway_demand es: {subway_demand.count()}\")"
   ]
  },
  {
   "cell_type": "code",
   "execution_count": 0,
   "metadata": {
    "application/vnd.databricks.v1+cell": {
     "cellMetadata": {
      "byteLimit": 2048000,
      "rowLimit": 10000
     },
     "inputWidgets": {},
     "nuid": "00cf285b-58a7-48d2-8ba9-78ac248cf78e",
     "showTitle": false,
     "tableResultSettingsMap": {},
     "title": ""
    }
   },
   "outputs": [],
   "source": [
    "\n",
    "# Calculo los valores máximos y mínimos de la columna `timestamp` para chequear el temaño de la muestra en términos temporales\n",
    "min_max_values = subway_demand.select(\n",
    "    min(col(\"timestamp\")).alias(\"min_timestamp\"),\n",
    "    max(col(\"timestamp\")).alias(\"max_timestamp\")\n",
    ")\n",
    "\n",
    "# Imprimo dichos valores\n",
    "min_max_values.show()\n"
   ]
  },
  {
   "cell_type": "code",
   "execution_count": 0,
   "metadata": {
    "application/vnd.databricks.v1+cell": {
     "cellMetadata": {
      "byteLimit": 2048000,
      "rowLimit": 10000
     },
     "inputWidgets": {},
     "nuid": "47faa1a0-0a99-4ea3-bcdf-eb687a7f0eed",
     "showTitle": false,
     "tableResultSettingsMap": {},
     "title": ""
    }
   },
   "outputs": [],
   "source": [
    "# Coordenadas de Manhattan (Centro de Manhattan)\n",
    "latitude = 40.7831\n",
    "longitude = -73.9712\n",
    "\n",
    "# Creo el objeto Point para Manhattan\n",
    "location = Point(latitude, longitude)\n",
    "\n",
    "# Establezco el rango de fechas (primeros 6 meses de 2024)\n",
    "start_date = datetime(2024, 1, 1)\n",
    "end_date = datetime(2024, 6, 30)\n",
    "\n",
    "# Obtengo los datos climáticos por hora para la ubicación y el rango de fechas\n",
    "data = Hourly(location, start_date, end_date)\n",
    "weather_df = data.fetch()\n",
    "\n",
    "# Imprimo las primeras filas del df\n",
    "print(weather_df.head())"
   ]
  },
  {
   "cell_type": "code",
   "execution_count": 0,
   "metadata": {
    "application/vnd.databricks.v1+cell": {
     "cellMetadata": {
      "byteLimit": 2048000,
      "rowLimit": 10000
     },
     "inputWidgets": {},
     "nuid": "797ce546-1e76-4de2-b858-c0ce9a43915d",
     "showTitle": false,
     "tableResultSettingsMap": {},
     "title": ""
    }
   },
   "outputs": [],
   "source": [
    "# Convierto el DataFrame de Pandas a DataFrame de Spark\n",
    "spark_weather_df = spark.createDataFrame(weather_df.reset_index())\n",
    "\n",
    "# Extraigo la hora como entero desde la columna `time`\n",
    "\n",
    "spark_weather_df = spark_weather_df.withColumn(\"hour\", hour(spark_weather_df[\"time\"]))\n",
    "\n",
    "spark_weather_df = spark_weather_df.withColumn(\"date\", to_date(spark_weather_df[\"time\"]))\n",
    "# Imprimo las primeras filas del DataFrame de Spark\n",
    "spark_weather_df.show()"
   ]
  },
  {
   "cell_type": "code",
   "execution_count": 0,
   "metadata": {
    "application/vnd.databricks.v1+cell": {
     "cellMetadata": {
      "byteLimit": 2048000,
      "rowLimit": 10000
     },
     "inputWidgets": {},
     "nuid": "f94af3bf-65ed-4323-b75d-b7d323f03e98",
     "showTitle": false,
     "tableResultSettingsMap": {},
     "title": ""
    }
   },
   "outputs": [],
   "source": [
    "\n",
    "# Inicio una sesión de Spark\n",
    "spark = SparkSession.builder \\\n",
    "    .appName(\"NY Data API\") \\\n",
    "    .getOrCreate()\n",
    "\n",
    "# URL de la API\n",
    "url = \"https://data.cityofnewyork.us/resource/bkfu-528j.csv\"\n",
    "\n",
    "# Creo una función para obtener los datos por año\n",
    "def fetch_data_by_year(year):\n",
    "    params = {\n",
    "        \"$limit\": 1500000,  # me traigo 1.5M de registros\n",
    "        \"$where\": f\"start_date_time >= '{year}-01-01T00:00:00.000' AND start_date_time <= '{year}-12-31T23:59:59.999'\"\n",
    "    }\n",
    "    \n",
    "    try:\n",
    "        # Realizo la solicitud para obtener los datos\n",
    "        response = requests.get(url, params=params)\n",
    "\n",
    "        # Verifico si la solicitud fue exitosa\n",
    "        if response.status_code == 200:\n",
    "            # Esto guarda el archivo CSV temporalmente\n",
    "            with open(f\"data_{year}.csv\", \"wb\") as file:\n",
    "                file.write(response.content)\n",
    "\n",
    "            # Esto lee el CSV descargado en un df de Pandas\n",
    "            df = pd.read_csv(f\"data_{year}.csv\")\n",
    "\n",
    "            # Esto convierte el DataFrame de Pandas a un dataframe de Spark\n",
    "            events_df = spark.createDataFrame(df)\n",
    "\n",
    "            # Esto imprime el esquema y las primeras filas del df\n",
    "            events_df.printSchema()\n",
    "            return events_df\n",
    "\n",
    "        else:\n",
    "            print(f\"Error al descargar los datos para el año {year}. Código de estado: {response.status_code}\")\n",
    "            return None\n",
    "\n",
    "    except requests.exceptions.RequestException as e:\n",
    "        print(f\"Error en la solicitud HTTP: {e}\")\n",
    "        return None\n",
    "\n",
    "    except Exception as e:\n",
    "        print(f\"Se ha producido un error: {e}\")\n",
    "        return None\n",
    "\n",
    "\n",
    "years = [2024, 2023, 2022, 2021]\n",
    "events_df = None\n",
    "\n",
    "for year in years:\n",
    "    year_data = fetch_data_by_year(year)\n",
    "    if year_data is not None:\n",
    "        if events_df is None:\n",
    "            events_df = year_data\n",
    "        else:\n",
    "            events_df = events_df.union(year_data)\n",
    "\n",
    "# Imprimo el esquema y las primeras filas del df \n",
    "if events_df is not None:\n",
    "    events_df.printSchema()\n",
    "    events_df.show(10)\n"
   ]
  },
  {
   "cell_type": "code",
   "execution_count": 0,
   "metadata": {
    "application/vnd.databricks.v1+cell": {
     "cellMetadata": {
      "byteLimit": 2048000,
      "rowLimit": 10000
     },
     "inputWidgets": {},
     "nuid": "4cbb30aa-af71-4d33-9370-e4129d7de533",
     "showTitle": false,
     "tableResultSettingsMap": {},
     "title": ""
    }
   },
   "outputs": [],
   "source": [
    "print(type(events_df))"
   ]
  },
  {
   "cell_type": "code",
   "execution_count": 0,
   "metadata": {
    "application/vnd.databricks.v1+cell": {
     "cellMetadata": {
      "byteLimit": 2048000,
      "rowLimit": 10000
     },
     "inputWidgets": {},
     "nuid": "9e909536-11b5-4209-93dc-86e3650fa657",
     "showTitle": false,
     "tableResultSettingsMap": {},
     "title": ""
    }
   },
   "outputs": [],
   "source": [
    "events_df.columns"
   ]
  },
  {
   "cell_type": "code",
   "execution_count": 0,
   "metadata": {
    "application/vnd.databricks.v1+cell": {
     "cellMetadata": {
      "byteLimit": 2048000,
      "rowLimit": 10000
     },
     "inputWidgets": {},
     "nuid": "f4de79d5-5668-4546-ac6e-34c51be9adfd",
     "showTitle": false,
     "tableResultSettingsMap": {},
     "title": ""
    }
   },
   "outputs": [],
   "source": [
    "\n",
    "\n",
    "# Calculo los valores máximos y mínimos de la columna `timestamp`\n",
    "min_max_values = events_df.select(\n",
    "    min(col(\"start_date_time\")).alias(\"min_start_date_time\"),\n",
    "    max(col(\"start_date_time\")).alias(\"max_start_date_time\")\n",
    ")\n",
    "\n",
    "# Imprimo los valores\n",
    "min_max_values.show()"
   ]
  },
  {
   "cell_type": "code",
   "execution_count": 0,
   "metadata": {
    "application/vnd.databricks.v1+cell": {
     "cellMetadata": {
      "byteLimit": 2048000,
      "rowLimit": 10000
     },
     "inputWidgets": {},
     "nuid": "b1c2224b-8d89-47e8-b270-406bad55a449",
     "showTitle": false,
     "tableResultSettingsMap": {},
     "title": ""
    }
   },
   "outputs": [],
   "source": [
    "\n",
    "# configuro la política de parser de fechas\n",
    "spark.conf.set(\"spark.sql.legacy.timeParserPolicy\", \"LEGACY\")\n",
    "\n",
    "# Elimino duplicados\n",
    "events_df = events_df.dropDuplicates()\n",
    "\n",
    "# Uniformizo las columnas de fecha a tipo Timestamp\n",
    "events_df = events_df.withColumn(\n",
    "    \"start_date_time\",\n",
    "    to_timestamp(col(\"start_date_time\"), \"yyyy-MM-dd'T'HH:mm:ss.SSS\")\n",
    ").withColumn(\n",
    "    \"end_date_time\",\n",
    "    to_timestamp(col(\"end_date_time\"), \"yyyy-MM-dd'T'HH:mm:ss.SSS\")\n",
    ")\n",
    "\n",
    "# Se verifican los datos tras la conversión\n",
    "events_df.show(10, truncate=False)\n",
    "\n",
    "# Filtro las filas donde end_date_time es anterior a start_date_time\n",
    "events_df = events_df.filter(col(\"end_date_time\") >= col(\"start_date_time\"))\n",
    "\n",
    "# Creo la secuencia de horas entre start_date_time y end_date_time\n",
    "events_with_hours_df = events_df.withColumn(\n",
    "    \"hour_sequence\",\n",
    "    explode(sequence(\n",
    "        col(\"start_date_time\"),\n",
    "        col(\"end_date_time\"),\n",
    "        expr(\"INTERVAL 1 HOUR\")\n",
    "    ))\n",
    ")\n",
    "\n",
    "# Añado una columna para la fecha\n",
    "events_with_hours_df = events_with_hours_df.withColumn(\"date\", date_format(col(\"hour_sequence\"), \"yyyy-MM-dd\"))\n",
    "\n",
    "# Extraigo la hora como entero\n",
    "events_with_hours_df = events_with_hours_df.withColumn(\"hour\", hour(col(\"hour_sequence\")))\n",
    "\n",
    "# Filtro por el rango de fechas del 1 de enero al 30 de junio de 2024\n",
    "filtered_events_with_hours_df = events_with_hours_df.filter(\n",
    "    (col(\"date\") >= \"2024-01-01\") & (col(\"date\") <= \"2024-06-30\")\n",
    ")\n",
    "\n",
    "# Creo una columna que marque si un evento ocurre en esa hora\n",
    "filtered_events_with_hours_df = filtered_events_with_hours_df.withColumn(\n",
    "    \"event_count\",\n",
    "    when(col(\"event_type\").isNotNull(), lit(1)).otherwise(lit(0))\n",
    ")\n",
    "\n",
    "# Agrupo por fecha y hora, pivotar para obtener eventos por tipo\n",
    "aggregated_events_df = filtered_events_with_hours_df.groupBy(\"date\", \"hour\") \\\n",
    "    .pivot(\"event_type\") \\\n",
    "    .agg({\"event_count\": \"sum\"})\n",
    "\n",
    "# Relleno valores nulos con 0\n",
    "aggregated_events_df = aggregated_events_df.fillna(0)\n",
    "\n",
    "# Verifico columnas disponibles\n",
    "print(\"Columns in aggregated_events_df:\", aggregated_events_df.columns)\n",
    "\n",
    "# Identifico las columnas a sumar (excuyo 'date' y 'hour')\n",
    "columns_to_sum = [col(c).cast(\"int\") for c in aggregated_events_df.columns if c not in [\"date\", \"hour\"]]\n",
    "\n",
    "# Este bucle es capaz de manejar el caso en el que no hay columnas para sumar\n",
    "if columns_to_sum:\n",
    "    aggregated_events_df = aggregated_events_df.withColumn(\n",
    "        \"nº events\",\n",
    "        reduce(lambda x, y: x + y, columns_to_sum)\n",
    "    )\n",
    "else:\n",
    "    aggregated_events_df = aggregated_events_df.withColumn(\"nº events\", lit(0))\n",
    "\n",
    "# Imprimo el resultado\n",
    "aggregated_events_df.show(10, truncate=False)\n"
   ]
  },
  {
   "cell_type": "code",
   "execution_count": 0,
   "metadata": {
    "application/vnd.databricks.v1+cell": {
     "cellMetadata": {
      "byteLimit": 2048000,
      "rowLimit": 10000
     },
     "inputWidgets": {},
     "nuid": "cf7ebe1d-357c-42b9-89ea-f26fe64555f4",
     "showTitle": false,
     "tableResultSettingsMap": {},
     "title": ""
    }
   },
   "outputs": [],
   "source": [
    "# Renombro la columna \"hour_of_day\" a \"hour\" en subway_demand para el join\n",
    "subway_demand = subway_demand.withColumnRenamed(\"hour_of_day\", \"hour\")\n",
    "\n",
    "# Realizo el join con aggregated_events_df\n",
    "subway_demand = subway_demand.join(\n",
    "    aggregated_events_df,\n",
    "    on=[\"date\", \"hour\"],\n",
    "    how=\"left\"\n",
    ")\n",
    "\n",
    "# Realizo el join con spark_weather_df\n",
    "subway_demand = subway_demand.join(\n",
    "    spark_weather_df,\n",
    "    on=[\"date\", \"hour\"],\n",
    "    how=\"left\"\n",
    ")\n",
    "\n",
    "# Imprimo los datos resultantes\n",
    "subway_demand.show(truncate=False)\n"
   ]
  },
  {
   "cell_type": "code",
   "execution_count": 0,
   "metadata": {
    "application/vnd.databricks.v1+cell": {
     "cellMetadata": {
      "byteLimit": 2048000,
      "rowLimit": 10000
     },
     "inputWidgets": {},
     "nuid": "f4c774cc-385e-42f8-8f8b-61e68e3a9568",
     "showTitle": false,
     "tableResultSettingsMap": {},
     "title": ""
    }
   },
   "outputs": [],
   "source": [
    "# Lista de columnas que quiero evaluar\n",
    "columns = [\n",
    "    'date',\n",
    "    'hour',\n",
    "    'timestamp',\n",
    "    'ridership',\n",
    "    'origin_station_complex_id',\n",
    "    'destination_station_complex_id',\n",
    "    'origin_latitude',\n",
    "    'origin_longitude',\n",
    "    'day_of_week',\n",
    "    'destination_longitude',\n",
    "    'destination_latitude'\n",
    "]\n",
    "\n",
    "# Creo una expresion que cuenta los valores nulos por columna\n",
    "missing_values = subway_demand.select([\n",
    "    sum(when(col(c).isNull(), 1).otherwise(0)).alias(c) for c in columns\n",
    "])\n",
    "\n",
    "# Muestro el resultado\n",
    "missing_values.show()\n"
   ]
  },
  {
   "cell_type": "code",
   "execution_count": 0,
   "metadata": {
    "application/vnd.databricks.v1+cell": {
     "cellMetadata": {
      "byteLimit": 2048000,
      "rowLimit": 10000
     },
     "inputWidgets": {},
     "nuid": "4aaabfab-b088-4dde-970f-2a7b2715bb18",
     "showTitle": false,
     "tableResultSettingsMap": {},
     "title": ""
    }
   },
   "outputs": [],
   "source": [
    "display(subway_demand)"
   ]
  },
  {
   "cell_type": "code",
   "execution_count": 0,
   "metadata": {
    "application/vnd.databricks.v1+cell": {
     "cellMetadata": {
      "byteLimit": 2048000,
      "rowLimit": 10000
     },
     "inputWidgets": {},
     "nuid": "38a4c389-6782-4cab-9883-440f610048a5",
     "showTitle": false,
     "tableResultSettingsMap": {},
     "title": ""
    }
   },
   "outputs": [],
   "source": [
    "subway_demand.columns"
   ]
  },
  {
   "cell_type": "code",
   "execution_count": 0,
   "metadata": {
    "application/vnd.databricks.v1+cell": {
     "cellMetadata": {
      "byteLimit": 2048000,
      "rowLimit": 10000
     },
     "inputWidgets": {},
     "nuid": "479b636b-4455-418c-abfc-26c2bb738390",
     "showTitle": false,
     "tableResultSettingsMap": {},
     "title": ""
    }
   },
   "outputs": [],
   "source": [
    "print(subway_demand.count())"
   ]
  },
  {
   "cell_type": "code",
   "execution_count": 0,
   "metadata": {
    "application/vnd.databricks.v1+cell": {
     "cellMetadata": {
      "byteLimit": 2048000,
      "rowLimit": 10000
     },
     "inputWidgets": {},
     "nuid": "de280a3c-ffdd-480a-8d1b-b023a3139b79",
     "showTitle": false,
     "tableResultSettingsMap": {},
     "title": ""
    }
   },
   "outputs": [],
   "source": [
    "# Calculo los valores máximos y mínimos de la columna `timestamp`\n",
    "min_max_values = subway_demand.select(\n",
    "    min(col(\"time\")).alias(\"time\"),\n",
    "    max(col(\"time\")).alias(\"time\")\n",
    ")\n",
    "\n",
    "# Imprimo los valores\n",
    "min_max_values.show()"
   ]
  },
  {
   "cell_type": "code",
   "execution_count": 0,
   "metadata": {
    "application/vnd.databricks.v1+cell": {
     "cellMetadata": {
      "byteLimit": 2048000,
      "rowLimit": 10000
     },
     "inputWidgets": {},
     "nuid": "5ca2fe8f-f849-4f30-b078-235d1034f9ca",
     "showTitle": false,
     "tableResultSettingsMap": {},
     "title": ""
    }
   },
   "outputs": [],
   "source": [
    "subway_demand.select(\"day_of_week\").distinct().show()\n"
   ]
  },
  {
   "cell_type": "code",
   "execution_count": 0,
   "metadata": {
    "application/vnd.databricks.v1+cell": {
     "cellMetadata": {
      "byteLimit": 2048000,
      "rowLimit": 10000
     },
     "inputWidgets": {},
     "nuid": "123e6c10-cb7a-4b8e-8124-89fcf133d852",
     "showTitle": false,
     "tableResultSettingsMap": {},
     "title": ""
    }
   },
   "outputs": [],
   "source": [
    "# Lista de columnas\n",
    "event_columns = [\n",
    "    \"Athletic Race / Tour\", \"Bike the Block\", \"Block Party\", \"Clean-Up\",\n",
    "    \"Farmers Market\", \"Grid Request\", \"Health Fair\", \"Open Culture\",\n",
    "    \"Open Street Partner Event\", \"Parade\", \"Plaza Event\", \"Plaza Partner Event\",\n",
    "    \"Press Conference\", \"Production Event\", \"Religious Event\", \"Sidewalk Sale\",\n",
    "    \"Single Block Festival\", \"Special Event\", \"Sport - Adult\", \"Sport - Youth\",\n",
    "    \"Stickball\", \"Street Event\", \"Street Festival\", \"Theater Load in and Load Outs\", \"nº events\"\n",
    "]\n",
    "\n",
    "weather_columns = [\"temp\", \"dwpt\", \"rhum\", \"prcp\", \"wspd\",  \"pres\"]"
   ]
  },
  {
   "cell_type": "code",
   "execution_count": 0,
   "metadata": {
    "application/vnd.databricks.v1+cell": {
     "cellMetadata": {
      "byteLimit": 2048000,
      "rowLimit": 10000
     },
     "inputWidgets": {},
     "nuid": "aefcdeef-351e-411e-80ea-18c2cbbe966c",
     "showTitle": false,
     "tableResultSettingsMap": {},
     "title": ""
    }
   },
   "outputs": [],
   "source": [
    "# Correlación entre ridership y resto de variables\n",
    "\n",
    "col_name = \"ridership\"\n",
    "# Convierto la columna de string a número\n",
    "subway_demand = subway_demand.withColumn(col_name, col(col_name).cast(\"double\"))\n",
    "\n",
    "# Calculo la correlación\n",
    "corr_value = subway_demand.stat.corr(\"ridership\", col_name)\n",
    "print(f\"Correlación entre ridership y {col_name}: {corr_value}\")\n",
    "\n"
   ]
  },
  {
   "cell_type": "code",
   "execution_count": 0,
   "metadata": {
    "application/vnd.databricks.v1+cell": {
     "cellMetadata": {
      "byteLimit": 2048000,
      "rowLimit": 10000
     },
     "inputWidgets": {},
     "nuid": "dc99f167-66c1-48c4-9afe-874b5940f6e4",
     "showTitle": false,
     "tableResultSettingsMap": {},
     "title": ""
    }
   },
   "outputs": [],
   "source": [
    "col_name = \"ridership\"\n",
    "# Convierto la columna de string a número\n",
    "subway_demand = subway_demand.withColumn(col_name, col(col_name).cast(\"double\"))"
   ]
  },
  {
   "cell_type": "code",
   "execution_count": 0,
   "metadata": {
    "application/vnd.databricks.v1+cell": {
     "cellMetadata": {
      "byteLimit": 2048000,
      "rowLimit": 10000
     },
     "inputWidgets": {},
     "nuid": "95ee77e8-1a3b-4af6-a596-a4703d3c4bfe",
     "showTitle": false,
     "tableResultSettingsMap": {},
     "title": ""
    }
   },
   "outputs": [],
   "source": [
    "# Defino el mapeo de días de la semana a valores entre 0 y 6\n",
    "day_of_week_mapping = {\n",
    "    \"Monday\": 0,\n",
    "    \"Tuesday\": 1,\n",
    "    \"Wednesday\": 2,\n",
    "    \"Thursday\": 3,\n",
    "    \"Friday\": 4,\n",
    "    \"Saturday\": 5,\n",
    "    \"Sunday\": 6\n",
    "}\n",
    "\n",
    "# Creo una columna nueva en subway_demand con el mapeo\n",
    "def map_day_of_week(day):\n",
    "    return day_of_week_mapping.get(day, -1)  # Devuelve -1 si el día no está en el mapeo\n",
    "\n",
    "map_day_of_week_udf = udf(map_day_of_week, IntegerType())\n",
    "\n",
    "# Aplico el mapeo al df\n",
    "subway_demand = subway_demand.withColumn(\"day_of_week_mapped\", map_day_of_week_udf(subway_demand[\"day_of_week\"]))\n"
   ]
  },
  {
   "cell_type": "code",
   "execution_count": 0,
   "metadata": {
    "application/vnd.databricks.v1+cell": {
     "cellMetadata": {
      "byteLimit": 2048000,
      "rowLimit": 10000
     },
     "inputWidgets": {},
     "nuid": "4abdf26d-672e-4b6b-b640-a7d42f845b7a",
     "showTitle": false,
     "tableResultSettingsMap": {},
     "title": ""
    }
   },
   "outputs": [],
   "source": [
    "\n",
    "# Convierto a Pandas para visualizar\n",
    "subway_demand_pandas = subway_demand.select(\n",
    "    \"day_of_week_mapped\", \"hour\", \"ridership\"\n",
    ").groupBy(\"day_of_week_mapped\", \"hour\").mean(\"ridership\").toPandas()\n",
    "\n",
    "# Me aseguro de que las horas están en el formato adecuado\n",
    "subway_demand_pandas['hour'] = subway_demand_pandas['hour'].astype(int)  # Convertir a entero si es necesario\n",
    "\n",
    "# Pivoto el df para un mapa de calor\n",
    "heatmap_data = subway_demand_pandas.pivot(index=\"day_of_week_mapped\", columns=\"hour\", values=\"avg(ridership)\")\n",
    "\n",
    "# Ordeno las columnas\n",
    "heatmap_data = heatmap_data.reindex(sorted(heatmap_data.columns), axis=1)\n",
    "\n",
    "# Creo mapa de calor\n",
    "plt.figure(figsize=(12, 6))\n",
    "sns.heatmap(heatmap_data, fmt='.0f', cmap=\"coolwarm\", annot=False)\n",
    "plt.title(\"Heatmap de Demanda por Día de la Semana y Hora\")\n",
    "plt.xlabel(\"Hora\")\n",
    "plt.ylabel(\"Día de la Semana\")\n",
    "plt.show()\n"
   ]
  },
  {
   "cell_type": "code",
   "execution_count": 0,
   "metadata": {
    "application/vnd.databricks.v1+cell": {
     "cellMetadata": {
      "byteLimit": 2048000,
      "rowLimit": 10000
     },
     "inputWidgets": {},
     "nuid": "fa80c423-e8ec-40b4-8c1c-dc11c9c3ba71",
     "showTitle": false,
     "tableResultSettingsMap": {},
     "title": ""
    }
   },
   "outputs": [],
   "source": [
    "# Agrego para tendencias generales\n",
    "subway_demand_aggregated = subway_demand.groupBy(\"day_of_week_mapped\", \"hour\").agg(\n",
    "    sum(\"ridership\").alias(\"total_ridership\"),\n",
    "    avg(\"prcp\").alias(\"mean_prcp\"),\n",
    "    avg(\"nº events\").alias(\"mean_num_events\"),\n",
    "    avg(\"wspd\").alias(\"mean_wspd\"),\n",
    "    avg(\"temp\").alias(\"mean_temp\")\n",
    ")"
   ]
  },
  {
   "cell_type": "code",
   "execution_count": 0,
   "metadata": {
    "application/vnd.databricks.v1+cell": {
     "cellMetadata": {
      "byteLimit": 2048000,
      "rowLimit": 10000
     },
     "inputWidgets": {},
     "nuid": "60deb484-0b60-4968-8933-b4cbd11f2419",
     "showTitle": false,
     "tableResultSettingsMap": {},
     "title": ""
    }
   },
   "outputs": [],
   "source": [
    "subway_demand.columns"
   ]
  },
  {
   "cell_type": "code",
   "execution_count": 0,
   "metadata": {
    "application/vnd.databricks.v1+cell": {
     "cellMetadata": {
      "byteLimit": 2048000,
      "rowLimit": 10000
     },
     "inputWidgets": {},
     "nuid": "84e5e448-5b6f-4902-80ee-99851b8a01a9",
     "showTitle": false,
     "tableResultSettingsMap": {},
     "title": ""
    }
   },
   "outputs": [],
   "source": [
    "# Agrego para tendencias generales\n",
    "subway_demand_aggregated_v2 = subway_demand.groupBy(\"hour_of_day\").agg(\n",
    "    sum(\"estimated_average_ridership\").alias(\"total_ridership\")\n",
    ").show()"
   ]
  },
  {
   "cell_type": "code",
   "execution_count": 0,
   "metadata": {
    "application/vnd.databricks.v1+cell": {
     "cellMetadata": {
      "byteLimit": 2048000,
      "rowLimit": 10000
     },
     "inputWidgets": {},
     "nuid": "32380427-2f9c-42b3-91b2-07ba753552cd",
     "showTitle": false,
     "tableResultSettingsMap": {},
     "title": ""
    }
   },
   "outputs": [],
   "source": [
    "# Utilizo los datos proporcionados para comparar demanda de metro y transporte privado (hide-railing) (etsos datso de metro caambiarían para cada ejecución pero se entiende como útiles para identificar tendencias)\n",
    "demanda_hide = {\n",
    "    \"hour_of_day\": list(range(24)),\n",
    "    \"demanda_hide_raling\": [\n",
    "        11166, 7975, 5302, 3594, 2495, 3016, 6615, 11788, 16052, 15469, 14389, 14661, \n",
    "        15051, 15023, 15355, 15901, 17385, 20886, 22842, 21811, 20292, 20270, 18501, 15087\n",
    "    ]\n",
    "}\n",
    "\n",
    "demanda_metro = {\n",
    "    \"hour\": [\n",
    "        1, 2, 3, 4, 5, 6, 7, 8, 9, 10, 11, 13, 14, 15, 16, 17, 18, 19, 20, 21\n",
    "    ],\n",
    "    \"demanda_metro\": [\n",
    "        15743, 8967, 5908, 15798, 63548, 161880, 366988, 554463, 351540, 225463, 213274,\n",
    "        372792, 370593, 350064, 427309, 575796, 410883, 252378, 182647, 150110\n",
    "    ]\n",
    "}\n",
    "\n",
    "# Creo los dfs\n",
    "df_hide = pd.DataFrame(demanda_hide)\n",
    "df_metro = pd.DataFrame(demanda_metro)\n",
    "\n",
    "# Normalizo los datos para comparación entre ambos\n",
    "df_hide[\"demanda_hide_raling_normalized\"] = df_hide[\"demanda_hide_raling\"] / df_hide[\"demanda_hide_raling\"].max()\n",
    "df_metro[\"demanda_metro_normalized\"] = df_metro[\"demanda_metro\"] / df_metro[\"demanda_metro\"].max()\n",
    "\n",
    "# Grafico las demandas normalizadas\n",
    "plt.figure(figsize=(10, 6))\n",
    "\n",
    "# Demanda Hide Raling\n",
    "plt.plot(df_hide[\"hour_of_day\"], df_hide[\"demanda_hide_raling_normalized\"], label=\"Hide Railing\", marker='o')\n",
    "\n",
    "# Demanda Metro\n",
    "plt.plot(df_metro[\"hour\"], df_metro[\"demanda_metro_normalized\"], label=\"Metro\", marker='o')\n",
    "\n",
    "# Configuro el gráfico\n",
    "plt.title(\"Comparación de la demanda normalizada\", fontsize=14)\n",
    "plt.xlabel(\"Hora del día\", fontsize=12)\n",
    "plt.ylabel(\"Demanda Normalizada\", fontsize=12)\n",
    "plt.xticks(range(0, 24))\n",
    "plt.legend()\n",
    "plt.grid(alpha=0.3)\n",
    "\n",
    "# Muestro el gráfico\n",
    "plt.tight_layout()\n",
    "plt.show()"
   ]
  },
  {
   "cell_type": "code",
   "execution_count": 0,
   "metadata": {
    "application/vnd.databricks.v1+cell": {
     "cellMetadata": {
      "byteLimit": 2048000,
      "rowLimit": 10000
     },
     "inputWidgets": {},
     "nuid": "b20dbde6-fcde-4fd1-af22-5a9a0979d975",
     "showTitle": false,
     "tableResultSettingsMap": {},
     "title": ""
    }
   },
   "outputs": [],
   "source": [
    "# Calculo las correlaciones entre ridership y las demás variables\n",
    "correlations = subway_demand_aggregated.select(\n",
    "    corr(\"total_ridership\", \"mean_prcp\").alias(\"corr_ridership_prcp\"),\n",
    "    corr(\"total_ridership\", \"mean_num_events\").alias(\"corr_ridership_num_events\"),\n",
    "    corr(\"total_ridership\", \"mean_temp\").alias(\"corr_ridership_temp\"),\n",
    "    corr(\"total_ridership\", \"mean_wspd\").alias(\"corr_ridership_wspd\")\n",
    ").collect()\n",
    "\n",
    "# Extraigo los valores de correlación\n",
    "correlation_values = {\n",
    "    \"prcp\": correlations[0][\"corr_ridership_prcp\"],\n",
    "    \"num_events\": correlations[0][\"corr_ridership_num_events\"],\n",
    "    \"temp\": correlations[0][\"corr_ridership_temp\"],\n",
    "    \"wspd\": correlations[0][\"corr_ridership_wspd\"]\n",
    "}\n",
    "\n",
    "# Convierto a un df de Pandas para visualizarlo\n",
    "correlation_df = pd.DataFrame.from_dict(correlation_values, orient=\"index\", columns=[\"Correlation\"])\n",
    "\n",
    "# Creo un mapa de calor\n",
    "plt.figure(figsize=(6, 4))\n",
    "sns.heatmap(correlation_df, annot=True, cmap=\"coolwarm\", cbar=True, linewidths=0.5)\n",
    "plt.title(\"Mapa de calor de correlaciones\")\n",
    "plt.ylabel(\"Variables\")\n",
    "plt.xlabel(\"Correlación\")\n",
    "plt.tight_layout()\n",
    "plt.show()\n",
    "\n",
    "# Visualización adicional: distribuciones y relaciones\n",
    "# Convierto el df de Spark a Pandas para graficar\n",
    "subway_demand_pandas = subway_demand_aggregated.toPandas()\n",
    "\n",
    "# Pairplot para explorar relaciones entre variables\n",
    "sns.pairplot(subway_demand_pandas, vars=[\"total_ridership\", \"mean_prcp\", \"mean_num_events\", \"mean_temp\",\"mean_wspd\"], diag_kind=\"kde\")\n",
    "plt.suptitle(\"Pairplot de variables\", y=1.02)\n",
    "plt.show()\n",
    "\n",
    "# Distribución de la ridership en función de cada variable\n",
    "plt.figure(figsize=(15, 5))\n",
    "\n",
    "# Distribución de prcp-demanda\n",
    "plt.subplot(1, 4, 1)\n",
    "sns.scatterplot(data=subway_demand_pandas, x=\"mean_prcp\", y=\"total_ridership\", alpha=0.6)\n",
    "plt.title(\"Demanda vs. Precipitación\")\n",
    "plt.xlabel(\"Precipitaciones promedio\")\n",
    "plt.ylabel(\"Demanda\")\n",
    "\n",
    "# Distribución de num_events-demanda\n",
    "plt.subplot(1, 4, 2)\n",
    "sns.scatterplot(data=subway_demand_pandas, x=\"mean_num_events\", y=\"total_ridership\", alpha=0.6, color=\"orange\")\n",
    "plt.title(\"Demanda vs. Número de eventos\")\n",
    "plt.xlabel(\"Número de eventos promedio\")\n",
    "\n",
    "# Distribución de temp-demanda\n",
    "plt.subplot(1, 4, 3)\n",
    "sns.scatterplot(data=subway_demand_pandas, x=\"mean_temp\", y=\"total_ridership\", alpha=0.6, color=\"green\")\n",
    "plt.title(\"Demanda vs. Temperatura\")\n",
    "plt.xlabel(\"Temperatura promedio\")\n",
    "\n",
    "\n",
    "# Distribución de wspd-demanda\n",
    "plt.subplot(1, 4, 3)\n",
    "sns.scatterplot(data=subway_demand_pandas, x=\"mean_wspd\", y=\"total_ridership\", alpha=0.6, color=\"green\")\n",
    "plt.title(\"Demanda vs. Velocidad del viento\")\n",
    "plt.xlabel(\"Velocidad del viento\")\n",
    "\n",
    "\n",
    "plt.tight_layout()\n",
    "plt.show()\n",
    "\n",
    "# Evaluo de la influencia del día de la semana y la hora\n",
    "plt.figure(figsize=(15, 10))\n",
    "\n",
    "# Boxplot para el día de la semana\n",
    "plt.subplot(2, 1, 1)\n",
    "sns.lineplot(data=subway_demand_pandas, x=\"day_of_week_mapped\", y=\"total_ridership\", palette=\"viridis\")\n",
    "plt.title(\"Demanda por día de la semana\")\n",
    "plt.xlabel(\"Día de la semana\")\n",
    "plt.ylabel(\"Demanda\")\n",
    "\n",
    "subway_demand_pandas[\"hour\"] = pd.to_numeric(subway_demand_pandas[\"hour\"], errors=\"coerce\")\n",
    "\n",
    "subway_demand_pandas = subway_demand_pandas.sort_values(\"hour\")\n",
    "\n",
    "# Boxplot para la hora\n",
    "plt.subplot(2, 1, 2)\n",
    "sns.lineplot(data=subway_demand_pandas, x=\"hour\", y=\"total_ridership\", marker=\"o\", color=\"blue\")\n",
    "plt.title(\"Demanda por hora del día\")\n",
    "plt.xlabel(\"Hora\")\n",
    "plt.ylabel(\"Demanda\")\n",
    "\n",
    "plt.tight_layout()\n",
    "plt.show()"
   ]
  }
 ],
 "metadata": {
  "application/vnd.databricks.v1+notebook": {
   "computePreferences": null,
   "dashboards": [],
   "environmentMetadata": null,
   "language": "python",
   "notebookMetadata": {
    "mostRecentlyExecutedCommandWithImplicitDF": {
     "commandId": -1,
     "dataframes": [
      "_sqldf"
     ]
    },
    "pythonIndentUnit": 4
   },
   "notebookName": "subway_demand_analysis",
   "widgets": {}
  },
  "language_info": {
   "name": "python"
  }
 },
 "nbformat": 4,
 "nbformat_minor": 0
}
